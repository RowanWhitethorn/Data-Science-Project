{
 "cells": [
  {
   "cell_type": "code",
   "execution_count": 2,
   "id": "a21969bf",
   "metadata": {},
   "outputs": [
    {
     "data": {
      "text/html": [
       "<style type=\"text/css\">\n",
       "</style>\n",
       "<table id=\"T_3fc46\">\n",
       "  <thead>\n",
       "    <tr>\n",
       "      <th class=\"blank level0\" >&nbsp;</th>\n",
       "      <th id=\"T_3fc46_level0_col0\" class=\"col_heading level0 col0\" >sepallength</th>\n",
       "      <th id=\"T_3fc46_level0_col1\" class=\"col_heading level0 col1\" >sepalwidth</th>\n",
       "      <th id=\"T_3fc46_level0_col2\" class=\"col_heading level0 col2\" >petallength</th>\n",
       "      <th id=\"T_3fc46_level0_col3\" class=\"col_heading level0 col3\" >petalwidth</th>\n",
       "      <th id=\"T_3fc46_level0_col4\" class=\"col_heading level0 col4\" >class</th>\n",
       "    </tr>\n",
       "  </thead>\n",
       "  <tbody>\n",
       "    <tr>\n",
       "      <th id=\"T_3fc46_level0_row0\" class=\"row_heading level0 row0\" >0</th>\n",
       "      <td id=\"T_3fc46_row0_col0\" class=\"data row0 col0\" >5.100000</td>\n",
       "      <td id=\"T_3fc46_row0_col1\" class=\"data row0 col1\" >3.500000</td>\n",
       "      <td id=\"T_3fc46_row0_col2\" class=\"data row0 col2\" >1.400000</td>\n",
       "      <td id=\"T_3fc46_row0_col3\" class=\"data row0 col3\" >0.200000</td>\n",
       "      <td id=\"T_3fc46_row0_col4\" class=\"data row0 col4\" >Iris-setosa</td>\n",
       "    </tr>\n",
       "    <tr>\n",
       "      <th id=\"T_3fc46_level0_row1\" class=\"row_heading level0 row1\" >1</th>\n",
       "      <td id=\"T_3fc46_row1_col0\" class=\"data row1 col0\" >4.900000</td>\n",
       "      <td id=\"T_3fc46_row1_col1\" class=\"data row1 col1\" >3.000000</td>\n",
       "      <td id=\"T_3fc46_row1_col2\" class=\"data row1 col2\" >1.400000</td>\n",
       "      <td id=\"T_3fc46_row1_col3\" class=\"data row1 col3\" >0.200000</td>\n",
       "      <td id=\"T_3fc46_row1_col4\" class=\"data row1 col4\" >Iris-setosa</td>\n",
       "    </tr>\n",
       "    <tr>\n",
       "      <th id=\"T_3fc46_level0_row2\" class=\"row_heading level0 row2\" >2</th>\n",
       "      <td id=\"T_3fc46_row2_col0\" class=\"data row2 col0\" >4.700000</td>\n",
       "      <td id=\"T_3fc46_row2_col1\" class=\"data row2 col1\" >3.200000</td>\n",
       "      <td id=\"T_3fc46_row2_col2\" class=\"data row2 col2\" >1.300000</td>\n",
       "      <td id=\"T_3fc46_row2_col3\" class=\"data row2 col3\" >0.200000</td>\n",
       "      <td id=\"T_3fc46_row2_col4\" class=\"data row2 col4\" >Iris-setosa</td>\n",
       "    </tr>\n",
       "    <tr>\n",
       "      <th id=\"T_3fc46_level0_row3\" class=\"row_heading level0 row3\" >3</th>\n",
       "      <td id=\"T_3fc46_row3_col0\" class=\"data row3 col0\" >4.600000</td>\n",
       "      <td id=\"T_3fc46_row3_col1\" class=\"data row3 col1\" >3.100000</td>\n",
       "      <td id=\"T_3fc46_row3_col2\" class=\"data row3 col2\" >1.500000</td>\n",
       "      <td id=\"T_3fc46_row3_col3\" class=\"data row3 col3\" >0.200000</td>\n",
       "      <td id=\"T_3fc46_row3_col4\" class=\"data row3 col4\" >Iris-setosa</td>\n",
       "    </tr>\n",
       "    <tr>\n",
       "      <th id=\"T_3fc46_level0_row4\" class=\"row_heading level0 row4\" >4</th>\n",
       "      <td id=\"T_3fc46_row4_col0\" class=\"data row4 col0\" >5.000000</td>\n",
       "      <td id=\"T_3fc46_row4_col1\" class=\"data row4 col1\" >3.600000</td>\n",
       "      <td id=\"T_3fc46_row4_col2\" class=\"data row4 col2\" >1.400000</td>\n",
       "      <td id=\"T_3fc46_row4_col3\" class=\"data row4 col3\" >0.200000</td>\n",
       "      <td id=\"T_3fc46_row4_col4\" class=\"data row4 col4\" >Iris-setosa</td>\n",
       "    </tr>\n",
       "    <tr>\n",
       "      <th id=\"T_3fc46_level0_row5\" class=\"row_heading level0 row5\" >5</th>\n",
       "      <td id=\"T_3fc46_row5_col0\" class=\"data row5 col0\" >5.400000</td>\n",
       "      <td id=\"T_3fc46_row5_col1\" class=\"data row5 col1\" >3.900000</td>\n",
       "      <td id=\"T_3fc46_row5_col2\" class=\"data row5 col2\" >1.700000</td>\n",
       "      <td id=\"T_3fc46_row5_col3\" class=\"data row5 col3\" >0.400000</td>\n",
       "      <td id=\"T_3fc46_row5_col4\" class=\"data row5 col4\" >Iris-setosa</td>\n",
       "    </tr>\n",
       "    <tr>\n",
       "      <th id=\"T_3fc46_level0_row6\" class=\"row_heading level0 row6\" >6</th>\n",
       "      <td id=\"T_3fc46_row6_col0\" class=\"data row6 col0\" >4.600000</td>\n",
       "      <td id=\"T_3fc46_row6_col1\" class=\"data row6 col1\" >3.400000</td>\n",
       "      <td id=\"T_3fc46_row6_col2\" class=\"data row6 col2\" >1.400000</td>\n",
       "      <td id=\"T_3fc46_row6_col3\" class=\"data row6 col3\" >0.300000</td>\n",
       "      <td id=\"T_3fc46_row6_col4\" class=\"data row6 col4\" >Iris-setosa</td>\n",
       "    </tr>\n",
       "    <tr>\n",
       "      <th id=\"T_3fc46_level0_row7\" class=\"row_heading level0 row7\" >7</th>\n",
       "      <td id=\"T_3fc46_row7_col0\" class=\"data row7 col0\" >5.000000</td>\n",
       "      <td id=\"T_3fc46_row7_col1\" class=\"data row7 col1\" >3.400000</td>\n",
       "      <td id=\"T_3fc46_row7_col2\" class=\"data row7 col2\" >1.500000</td>\n",
       "      <td id=\"T_3fc46_row7_col3\" class=\"data row7 col3\" >0.200000</td>\n",
       "      <td id=\"T_3fc46_row7_col4\" class=\"data row7 col4\" >Iris-setosa</td>\n",
       "    </tr>\n",
       "    <tr>\n",
       "      <th id=\"T_3fc46_level0_row8\" class=\"row_heading level0 row8\" >8</th>\n",
       "      <td id=\"T_3fc46_row8_col0\" class=\"data row8 col0\" >4.400000</td>\n",
       "      <td id=\"T_3fc46_row8_col1\" class=\"data row8 col1\" >2.900000</td>\n",
       "      <td id=\"T_3fc46_row8_col2\" class=\"data row8 col2\" >1.400000</td>\n",
       "      <td id=\"T_3fc46_row8_col3\" class=\"data row8 col3\" >0.200000</td>\n",
       "      <td id=\"T_3fc46_row8_col4\" class=\"data row8 col4\" >Iris-setosa</td>\n",
       "    </tr>\n",
       "    <tr>\n",
       "      <th id=\"T_3fc46_level0_row9\" class=\"row_heading level0 row9\" >9</th>\n",
       "      <td id=\"T_3fc46_row9_col0\" class=\"data row9 col0\" >4.900000</td>\n",
       "      <td id=\"T_3fc46_row9_col1\" class=\"data row9 col1\" >3.100000</td>\n",
       "      <td id=\"T_3fc46_row9_col2\" class=\"data row9 col2\" >1.500000</td>\n",
       "      <td id=\"T_3fc46_row9_col3\" class=\"data row9 col3\" >0.100000</td>\n",
       "      <td id=\"T_3fc46_row9_col4\" class=\"data row9 col4\" >Iris-setosa</td>\n",
       "    </tr>\n",
       "  </tbody>\n",
       "</table>\n"
      ],
      "text/plain": [
       "<pandas.io.formats.style.Styler at 0x11518910>"
      ]
     },
     "execution_count": 2,
     "metadata": {},
     "output_type": "execute_result"
    }
   ],
   "source": [
    "import matplotlib.pyplot as plt\n",
    "from sklearn import datasets\n",
    "import pandas as pd\n",
    "import numpy as np\n",
    "from sklearn.preprocessing import OrdinalEncoder\n",
    "\n",
    "iris = pd.read_csv(\"iris_csv.csv\")\n",
    "iris.head(10).style"
   ]
  },
  {
   "cell_type": "code",
   "execution_count": 3,
   "id": "d46b8bb5",
   "metadata": {},
   "outputs": [
    {
     "name": "stdout",
     "output_type": "stream",
     "text": [
      " sepallenght mean: 5.84 sepallenght median: 5.80 \n",
      " sepalwidth mean: 3.05 sepalwidth median: 3.00\n",
      " petallenght mean: 3.76 petallenght medias: 4.35\n",
      " petalwidth mean: 1.20 petalwidth median: 1.30\n"
     ]
    }
   ],
   "source": [
    "statistics=iris[\"sepallength\"].mean(),iris[\"sepallength\"].median(),iris[\"sepalwidth\"].mean(),iris[\"sepalwidth\"].median(),iris[\"petallength\"].mean(),iris[\"petallength\"].median(),iris[\"petalwidth\"].mean(),iris[\"petalwidth\"].median()\n",
    "\n",
    "print(\" sepallenght mean: %.2f sepallenght median: %.2f \\n sepalwidth mean: %.2f sepalwidth median: %.2f\\n petallenght mean: %.2f petallenght medias: %.2f\\n petalwidth mean: %.2f petalwidth median: %.2f\" %statistics)"
   ]
  },
  {
   "cell_type": "code",
   "execution_count": 59,
   "id": "8403bf57",
   "metadata": {},
   "outputs": [
    {
     "data": {
      "text/html": [
       "<div>\n",
       "<style scoped>\n",
       "    .dataframe tbody tr th:only-of-type {\n",
       "        vertical-align: middle;\n",
       "    }\n",
       "\n",
       "    .dataframe tbody tr th {\n",
       "        vertical-align: top;\n",
       "    }\n",
       "\n",
       "    .dataframe thead th {\n",
       "        text-align: right;\n",
       "    }\n",
       "</style>\n",
       "<table border=\"1\" class=\"dataframe\">\n",
       "  <thead>\n",
       "    <tr style=\"text-align: right;\">\n",
       "      <th></th>\n",
       "      <th>sepallength</th>\n",
       "      <th>sepalwidth</th>\n",
       "      <th>petallength</th>\n",
       "      <th>petalwidth</th>\n",
       "    </tr>\n",
       "  </thead>\n",
       "  <tbody>\n",
       "    <tr>\n",
       "      <th>sepallength</th>\n",
       "      <td>1.000000</td>\n",
       "      <td>-0.109369</td>\n",
       "      <td>0.871754</td>\n",
       "      <td>0.817954</td>\n",
       "    </tr>\n",
       "    <tr>\n",
       "      <th>sepalwidth</th>\n",
       "      <td>-0.109369</td>\n",
       "      <td>1.000000</td>\n",
       "      <td>-0.420516</td>\n",
       "      <td>-0.356544</td>\n",
       "    </tr>\n",
       "    <tr>\n",
       "      <th>petallength</th>\n",
       "      <td>0.871754</td>\n",
       "      <td>-0.420516</td>\n",
       "      <td>1.000000</td>\n",
       "      <td>0.962757</td>\n",
       "    </tr>\n",
       "    <tr>\n",
       "      <th>petalwidth</th>\n",
       "      <td>0.817954</td>\n",
       "      <td>-0.356544</td>\n",
       "      <td>0.962757</td>\n",
       "      <td>1.000000</td>\n",
       "    </tr>\n",
       "  </tbody>\n",
       "</table>\n",
       "</div>"
      ],
      "text/plain": [
       "             sepallength  sepalwidth  petallength  petalwidth\n",
       "sepallength     1.000000   -0.109369     0.871754    0.817954\n",
       "sepalwidth     -0.109369    1.000000    -0.420516   -0.356544\n",
       "petallength     0.871754   -0.420516     1.000000    0.962757\n",
       "petalwidth      0.817954   -0.356544     0.962757    1.000000"
      ]
     },
     "execution_count": 59,
     "metadata": {},
     "output_type": "execute_result"
    }
   ],
   "source": [
    "iris.corr(method='pearson')\n",
    "#pandas correlation"
   ]
  },
  {
   "cell_type": "markdown",
   "id": "7f1a2f5e",
   "metadata": {},
   "source": [
    "## Esto es un título\n",
    "En la muestra * lolo * $$\\sqrt{1+x}$$ ferheyj"
   ]
  },
  {
   "cell_type": "code",
   "execution_count": 157,
   "id": "2757496d",
   "metadata": {},
   "outputs": [
    {
     "data": {
      "text/plain": [
       "<AxesSubplot:ylabel='1'>"
      ]
     },
     "execution_count": 157,
     "metadata": {},
     "output_type": "execute_result"
    },
    {
     "data": {
      "image/png": "[encoded data removed]",
      "text/plain": [
       "<Figure size 360x360 with 1 Axes>"
      ]
     },
     "metadata": {},
     "output_type": "display_data"
    }
   ],
   "source": [
    "enc = OrdinalEncoder()\n",
    "enc.fit(iris)\n",
    "enc.categories_\n",
    "pd.DataFrame(enc.fit_transform(iris)).groupby([4]).count().plot.pie(y=1,figsize=(5, 5))\n",
    "# enc.fit_transform(iris) transformar la variable nominal 'clase' a cardinal de razon"
   ]
  },
  {
   "cell_type": "code",
   "execution_count": 159,
   "id": "bfd7c6a6",
   "metadata": {},
   "outputs": [
    {
     "data": {
      "text/plain": [
       "array([[4.3, 2.0, 1.0, 0.1, 'Iris-setosa'],\n",
       "       [4.4, 2.2, 1.1, 0.1, 'Iris-setosa'],\n",
       "       [4.4, 2.2, 1.2, 0.1, 'Iris-setosa'],\n",
       "       [4.4, 2.2, 1.2, 0.1, 'Iris-setosa'],\n",
       "       [4.5, 2.3, 1.3, 0.1, 'Iris-setosa'],\n",
       "       [4.6, 2.3, 1.3, 0.1, 'Iris-setosa'],\n",
       "       [4.6, 2.3, 1.3, 0.2, 'Iris-setosa'],\n",
       "       [4.6, 2.3, 1.3, 0.2, 'Iris-setosa'],\n",
       "       [4.6, 2.4, 1.3, 0.2, 'Iris-setosa'],\n",
       "       [4.7, 2.4, 1.3, 0.2, 'Iris-setosa']], dtype=object)"
      ]
     },
     "execution_count": 159,
     "metadata": {},
     "output_type": "execute_result"
    }
   ],
   "source": [
    "np.sort(np.array(iris),axis=0)[0:10] #ordered by sepallenght\n"
   ]
  },
  {
   "cell_type": "code",
   "execution_count": 166,
   "id": "3bfd7892",
   "metadata": {},
   "outputs": [
    {
     "data": {
      "text/plain": [
       "<matplotlib.collections.PathCollection at 0x19b96ce0>"
      ]
     },
     "execution_count": 166,
     "metadata": {},
     "output_type": "execute_result"
    },
    {
     "data": {
      "image/png": "[encoded data removed]",
      "text/plain": [
       "<Figure size 144x144 with 1 Axes>"
      ]
     },
     "metadata": {
      "needs_background": "light"
     },
     "output_type": "display_data"
    }
   ],
   "source": [
    "plt.style.use('_mpl-gallery')\n",
    "fig, ax = plt.subplots()\n",
    "sizes = np.random.uniform(15, 80, len(iris))\n",
    "colors = np.random.uniform(15, 80, len(iris))\n",
    "\n",
    "\n",
    "ax.scatter(iris['sepallength'],iris['sepalwidth'] ,s=sizes, c=colors)\n"
   ]
  },
  {
   "cell_type": "code",
   "execution_count": null,
   "id": "fea774ce",
   "metadata": {},
   "outputs": [],
   "source": []
  }
 ],
 "metadata": {
  "kernelspec": {
   "display_name": "Python 3 (ipykernel)",
   "language": "python",
   "name": "python3"
  },
  "language_info": {
   "codemirror_mode": {
    "name": "ipython",
    "version": 3
   },
   "file_extension": ".py",
   "mimetype": "text/x-python",
   "name": "python",
   "nbconvert_exporter": "python",
   "pygments_lexer": "ipython3",
   "version": "3.10.0"
  }
 },
 "nbformat": 4,
 "nbformat_minor": 5
}
